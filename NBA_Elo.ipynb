{
 "cells": [
  {
   "cell_type": "code",
   "execution_count": 4,
   "id": "4317fedf",
   "metadata": {},
   "outputs": [],
   "source": [
    "#This project aims to build the best elo rating systems for teams in the NBA. Below, I've provided outlines for the\n",
    "#two methods you will need to modify: win_prob() and change_elo(). I will use these two methods of yours to test the\n",
    "#effectiveness of your elo ranking system. I've attached the schedules and outcomes of five historical NBA seasons for\n",
    "#you to train your data (from SR) and will be using the most recently completely season to test. Please do not pull\n",
    "#the testing data as that will defeat the purpose of this project. Keep in mind, this is the bare minimum outline. \n",
    "#You are encouraged to pull this code and write any tuning algorithms you deem necessary to further build your elo\n",
    "#system. Best of luck!"
   ]
  },
  {
   "cell_type": "code",
   "execution_count": 5,
   "id": "5cce140a",
   "metadata": {},
   "outputs": [],
   "source": [
    "import pandas as pd\n",
    "import numpy as np\n",
    "import sklearn as sl\n",
    "import math"
   ]
  },
  {
   "cell_type": "code",
   "execution_count": 6,
   "id": "851464d0",
   "metadata": {
    "scrolled": true
   },
   "outputs": [],
   "source": [
    "#read in data\n",
    "\n",
    "games = pd.read_csv('NBA_2017_18.csv')"
   ]
  },
  {
   "cell_type": "code",
   "execution_count": 7,
   "id": "1293ea0d",
   "metadata": {},
   "outputs": [],
   "source": [
    "#initial elo for each team\n",
    "\n",
    "teams = {\n",
    "    \"Brooklyn Nets\":          0, #set initial values here (float)\n",
    "    \"Milwaukee Bucks\":        0,\n",
    "    \"Golden State Warriors\":  0,\n",
    "    \"Los Angeles Lakers\":     0,\n",
    "    \"Indiana Pacers\":         0,\n",
    "    \"Charlotte Hornets\":      0,\n",
    "    \"Chicago Bulls\":          0,\n",
    "    \"Detroit Pistons\":        0,\n",
    "    \"Boston Celtics\":         0,\n",
    "    \"New York Knicks\":        0,\n",
    "    \"Washington Wizards\":     0,\n",
    "    \"Toronto Raptors\":        0,\n",
    "    \"Cleveland Cavaliers\":    0,\n",
    "    \"Memphis Grizzlies\":      0,\n",
    "    \"Houston Rockets\":        0,\n",
    "    \"Minnesota Timberwolves\": 0,\n",
    "    \"Philadelphia 76ers\":     0,\n",
    "    \"New Orleans Pelicans\":   0,\n",
    "    \"Orlando Magic\":          0,\n",
    "    \"San Antonio Spurs\":      0,\n",
    "    \"Oklahoma City Thunder\":  0,\n",
    "    \"Utah Jazz\":              0,\n",
    "    \"Sacramento Kings\":       0,\n",
    "    \"Portland Trail Blazers\": 0,\n",
    "    \"Denver Nuggets\":         0,\n",
    "    \"Phoenix Suns\":           0,\n",
    "    \"Dallas Mavericks\":       0,\n",
    "    \"Atlanta Hawks\":          0,\n",
    "    \"Miami Heat\":             0,\n",
    "    \"Los Angeles Clippers\":   0\n",
    "}"
   ]
  },
  {
   "cell_type": "code",
   "execution_count": 8,
   "id": "45084fcb",
   "metadata": {},
   "outputs": [],
   "source": [
    "#given two teams and their elos, return the probability of winning for the first team\n",
    "#input: team 1 elo (float), team 2 elo (float)\n",
    "#output: team 1 win probability between 0 and 1 (float)\n",
    "\n",
    "def win_prob(team_1_elo, team_2_elo) -> float:\n",
    "    \n",
    "    team_1_win_prob = 0 #change this\n",
    "    \n",
    "    return team_1_win_prob"
   ]
  },
  {
   "cell_type": "code",
   "execution_count": 9,
   "id": "3308b9b0",
   "metadata": {},
   "outputs": [],
   "source": [
    "#given two teams and their original elos, return their new elos considering the outcome of their game\n",
    "#input: team 1 elo (float), team 2 elo (float), game (DataFrame)\n",
    "#ouput: new team 1 elo (float), new team 2 elo (float)\n",
    "\n",
    "def change_elo(team_1_elo, team_2_elo, game) -> float:\n",
    "    \n",
    "    new_team_1_elo = 0 #change this\n",
    "    new_team_2_elo = 0 #change this\n",
    "    \n",
    "    return new_team_1_elo, new_team_2_elo"
   ]
  },
  {
   "cell_type": "code",
   "execution_count": 10,
   "id": "a4e91102",
   "metadata": {
    "scrolled": true
   },
   "outputs": [
    {
     "data": {
      "text/plain": [
       "0"
      ]
     },
     "execution_count": 10,
     "metadata": {},
     "output_type": "execute_result"
    }
   ],
   "source": [
    "#how predictive is the elo system?\n",
    "#squared loss forcasting test (Brier Score)\n",
    "#the lower the score, the better\n",
    "\n",
    "def test() -> float:\n",
    "    score = 0\n",
    "    for index, row in games.iterrows():\n",
    "        team_1, team_2 = row['team_1'], row['team_2']\n",
    "        current_team_1_elo, current_team_2_elo = teams.get(team_1), teams.get(team_2)\n",
    "        \n",
    "        win = win_prob(current_team_1_elo, current_team_2_elo)\n",
    "        \n",
    "        new_team_1_elo, new_team_2_elo = change_elo(current_team_1_elo, current_team_2_elo, row)\n",
    "        teams.update({team_1: new_team_1_elo})\n",
    "        teams.update({team_2: new_team_2_elo})\n",
    "        \n",
    "        if row['team_1_score'] > row['team_2_score']:\n",
    "            score = score + 2*(1 - win)**2\n",
    "        else:\n",
    "            score = score + 2*win**2\n",
    "            \n",
    "    return score\n",
    "\n",
    "test()            "
   ]
  }
 ],
 "metadata": {
  "kernelspec": {
   "display_name": "Python 3 (ipykernel)",
   "language": "python",
   "name": "python3"
  },
  "language_info": {
   "codemirror_mode": {
    "name": "ipython",
    "version": 3
   },
   "file_extension": ".py",
   "mimetype": "text/x-python",
   "name": "python",
   "nbconvert_exporter": "python",
   "pygments_lexer": "ipython3",
   "version": "3.11.1"
  }
 },
 "nbformat": 4,
 "nbformat_minor": 5
}
